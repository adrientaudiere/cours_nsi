{
  "nbformat": 4,
  "nbformat_minor": 0,
  "metadata": {
    "colab": {
      "name": "DM-Titanic.ipynb",
      "provenance": [],
      "collapsed_sections": []
    },
    "kernelspec": {
      "name": "python3",
      "display_name": "Python 3"
    }
  },
  "cells": [
    {
      "cell_type": "markdown",
      "metadata": {
        "id": "Fc6NM6dmZFUk"
      },
      "source": [
        "# TP - Titanic\n",
        "\n",
        "Ce TP est issue du site https://isn-icn-ljm.pagesperso-orange.fr/\n"
      ]
    },
    {
      "cell_type": "markdown",
      "metadata": {
        "id": "f0-yDI-sabZv"
      },
      "source": [
        "\n",
        "![Texte alternatif…](https://isn-icn-ljm.pagesperso-orange.fr/images/titanic.png)\n",
        "\n",
        "Le Titanic appareille de Southampton (Angleterre) le mercredi 10 avril à 12 h 15 .\n",
        "\n",
        "Six heures plus tard, à 18 h 15, il fait escale dans la rade de Cherbourg. Il y débarque 24 passagers et en embarque 274, amenés par les transbordeurs Nomadic et Traffic. Il appareille à 20 h 10.\n",
        "\n",
        "Le Titanic fait route vers l'Irlande. Il arrive à Queenstown (aujourdhui Cobh) le 11 avril à 11 h 30. Il débarque 7 passagers et en embarque 120. À 13 h 30, le paquebot appareille et entame sa traversée de l'Atlantique vers New York .\n",
        "\n",
        "Le 14 avril, à 23 h 40 (heure locale, GMT-3), il percute un iceberg au large de Terre-Neuve. Il sombre le 15 avril à 2 h 20, causant la mort de 1 524 personnes.\n",
        "\n",
        "(source wikimanche)\n"
      ]
    },
    {
      "cell_type": "markdown",
      "metadata": {
        "id": "5KJAyxS1bB8d"
      },
      "source": [
        "## Le fichier \n",
        "\n",
        "[Ce fichier ( titanic.csv )](https://isn-icn-ljm.pagesperso-orange.fr/fichiers/titanic.csv) donne des informations sur un certain nombre de passagers du Titanic\n",
        "\n",
        "Il s'agit d'un fichier de données avec la virgule comme séparateur et la première ligne comme descripteurs. "
      ]
    },
    {
      "cell_type": "markdown",
      "metadata": {
        "id": "2_YVfWN1bjwS"
      },
      "source": [
        "Ouvrez ce fichier avec Libre Office Calc\n",
        "\n",
        "Identifiez les descripteurs :\n",
        "\n",
        "* Classe ( il y avait 3 classes [voir ici](https://fr.wikipedia.org/wiki/Passagers_du_Titanic) )\n",
        "\n",
        "* Survivant\n",
        "\n",
        "* Lieu d'embarquement"
      ]
    },
    {
      "cell_type": "markdown",
      "metadata": {
        "id": "PLBe7_6theaB"
      },
      "source": [
        "## Un script :"
      ]
    },
    {
      "cell_type": "markdown",
      "metadata": {
        "id": "F65kDMmncEqT"
      },
      "source": [
        "Le script ci-dessous, ouvre le fichier 'titanic.csv' et stocke chaque ligne sous forme de dictionnaire ( avec les descripteurs comme clés) dans une liste.\n",
        "\n",
        "**Vous aurez pris soin de déposer le fichier titanic.csv dans le même dossier que ce notebook**"
      ]
    },
    {
      "cell_type": "code",
      "metadata": {
        "id": "TFyzvbQHcQJ2",
        "colab": {
          "base_uri": "https://localhost:8080/"
        },
        "outputId": "086e37ee-c3ee-4aef-da7e-25f7dd8c1288"
      },
      "source": [
        "import csv\n",
        "reader = csv.DictReader(open('/content/sample_data/titanic.csv', 'r'))\n",
        "titanic = []\n",
        "for row in reader:\n",
        "    titanic.append(dict(row))\n",
        "\n",
        "\n",
        "print(len(titanic))\n",
        "print(titanic[53])"
      ],
      "execution_count": null,
      "outputs": [
        {
          "output_type": "stream",
          "text": [
            "891\n",
            "{'PassengerId': '54', 'Survived': '1', 'Pclass': '2', 'Name': 'Faunthorpe, Mrs. Lizzie (Elizabeth Anne Wilkinson)', 'Sex': 'female', 'Age': '29', 'SibSp': '1', 'Parch': '0', 'Ticket': '2926', 'Fare': '26', 'Cabin': '', 'Embarked': 'S'}\n"
          ],
          "name": "stdout"
        }
      ]
    },
    {
      "cell_type": "code",
      "metadata": {
        "id": "b1FpmXEumzpA"
      },
      "source": [
        ""
      ],
      "execution_count": null,
      "outputs": []
    },
    {
      "cell_type": "markdown",
      "metadata": {
        "id": "sWUCl05KZLAc"
      },
      "source": [
        "## À faire :\n",
        "\n",
        "\n",
        "Écrire un script qui détermine le nombre de survivant\n",
        "\n",
        "**Attention :**\n",
        "\n",
        "* La valeur de la clé 'Survived' est de type string\n",
        "\n",
        "* Pour l'atteindre on utilise l'instruction : titanic\\[n° de ligne\\]\\['Survived'\\]\n"
      ]
    },
    {
      "cell_type": "code",
      "metadata": {
        "id": "tTu1u9BHiVYl",
        "colab": {
          "base_uri": "https://localhost:8080/"
        },
        "outputId": "8803762b-7433-4a9f-bb4c-e57bbf4f53f2"
      },
      "source": [
        "# Écrire le script ici\n",
        "s=0\n",
        "for el in titanic:\n",
        "  if el[\"Survived\"]=='1':\n",
        "    s=s+1\n",
        "print(s)\n"
      ],
      "execution_count": null,
      "outputs": [
        {
          "output_type": "stream",
          "text": [
            "342\n"
          ],
          "name": "stdout"
        }
      ]
    },
    {
      "cell_type": "markdown",
      "metadata": {
        "id": "hGbxy4amikL1"
      },
      "source": [
        "## À faire:\n",
        "Écrire un programme qui :\n",
        "\n",
        "  Affiche le pourcentage de survivants par classe"
      ]
    },
    {
      "cell_type": "code",
      "metadata": {
        "id": "QkteM_2AiuSB"
      },
      "source": [
        "# Écrire le script ici"
      ],
      "execution_count": null,
      "outputs": []
    },
    {
      "cell_type": "markdown",
      "metadata": {
        "id": "7BVCbuT-izE-"
      },
      "source": [
        "## À faire :\n",
        "Écrire un programme qui :\n",
        "\n",
        "Donne le nombre de survivants embarqués à Cherbourg"
      ]
    },
    {
      "cell_type": "code",
      "metadata": {
        "id": "5Z8jke3Ki9Qj"
      },
      "source": [
        "# Écrire le script ici"
      ],
      "execution_count": null,
      "outputs": []
    }
  ]
}